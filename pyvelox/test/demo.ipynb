{
 "cells": [
  {
   "cell_type": "code",
   "execution_count": null,
   "metadata": {},
   "outputs": [],
   "source": [
    "import pyvelox.pyvelox as pv\n",
    "import time\n",
    "import statistics\n",
    "import duckdb\n",
    "import matplotlib.pyplot as plt\n",
    "import numpy as np\n",
    "import random"
   ]
  },
  {
   "cell_type": "code",
   "execution_count": null,
   "metadata": {},
   "outputs": [],
   "source": [
    "dataLocation = \"../../adult/discrete.csv\"\n",
    "queryLocation = \"../../adult/queries_100.txt\"\n",
    "\n",
    "millisecondMultiplier = 1000"
   ]
  },
  {
   "cell_type": "code",
   "execution_count": null,
   "metadata": {},
   "outputs": [],
   "source": [
    "queries = []\n",
    "with open(queryLocation, \"r\") as file_in:\n",
    "        for line in file_in:\n",
    "            line = line.strip()\n",
    "            queries.append(line)\n",
    "\n",
    "print(queries)"
   ]
  },
  {
   "cell_type": "code",
   "execution_count": null,
   "metadata": {},
   "outputs": [],
   "source": [
    "con = duckdb.connect(database=':memory:')\n",
    "con.execute('CREATE TABLE data AS SELECT * FROM read_csv_auto(\\'' + dataLocation +'\\')')\n",
    "con.execute('SET threads TO 1')\n",
    "\n",
    "resultSizes = []\n",
    "\n",
    "for query in queries:\n",
    "    result = con.execute(query).fetchall()\n",
    "    resultSizes.append(len(result))\n",
    "\n",
    "print(resultSizes)\n",
    "\n",
    "plotData = np.array(resultSizes)\n",
    "\n",
    "plt.hist(plotData, 10)\n",
    "\n",
    "plt.xlabel('Result Size')\n",
    "plt.ylabel('')\n",
    "plt.grid(axis='y', alpha=0.75)\n",
    "\n",
    "plt.show()"
   ]
  },
  {
   "attachments": {},
   "cell_type": "markdown",
   "metadata": {},
   "source": [
    "DuckDB execution"
   ]
  },
  {
   "cell_type": "code",
   "execution_count": null,
   "metadata": {},
   "outputs": [],
   "source": [
    "con = duckdb.connect(database=':memory:')\n",
    "con.execute('CREATE TABLE data AS SELECT * FROM read_csv_auto(\\'' + dataLocation +'\\')')\n",
    "con.execute('SET threads TO 1')\n",
    "\n",
    "duckTimes = []\n",
    "\n",
    "for i in range(0, 5):\n",
    "    resultsDuck = []\n",
    "\n",
    "    start_time = time.time()\n",
    "    for query in queries:\n",
    "        resultsDuck.append(con.execute(query).fetchall())\n",
    "    end_time = time.time()\n",
    "    res = end_time - start_time\n",
    "    duckTimes.append(res * millisecondMultiplier)\n",
    "\n",
    "\n",
    "print('mean execution: ', statistics.mean(duckTimes))\n",
    "print('std execution: ', statistics.stdev(duckTimes))"
   ]
  },
  {
   "attachments": {},
   "cell_type": "markdown",
   "metadata": {},
   "source": [
    "Project execution"
   ]
  },
  {
   "cell_type": "code",
   "execution_count": null,
   "metadata": {},
   "outputs": [],
   "source": [
    "proj = pv.Project.create()\n",
    "proj.loadData(dataLocation)\n",
    "proj.setNumThreads(1)\n",
    "\n",
    "projectTimes = []\n",
    "\n",
    "for i in range(0, 5):\n",
    "    resultsProj = []\n",
    "\n",
    "    st = time.time()\n",
    "    exprs = proj.compileSQLQueries(queries)  \n",
    "    for expr in exprs:\n",
    "        resultsProj.append(proj.runQueryOneThread(expr, 0))\n",
    "    et = time.time()\n",
    "\n",
    "    res = et - st\n",
    "    final_res = res * millisecondMultiplier\n",
    "    projectTimes.append(final_res)\n",
    "\n",
    "\n",
    "print('Execution time mean:', statistics.mean(projectTimes), 'milliseconds')\n",
    "print('Execution time std:', statistics.stdev(projectTimes), 'milliseconds')"
   ]
  },
  {
   "attachments": {},
   "cell_type": "markdown",
   "metadata": {},
   "source": [
    "Checking corectness"
   ]
  },
  {
   "cell_type": "code",
   "execution_count": null,
   "metadata": {},
   "outputs": [],
   "source": [
    "areResultsEqual = True\n",
    "notPrinted = True\n",
    "for i in range(0, len(queries)):\n",
    "    areResultsEqual = areResultsEqual and (len(resultsProj[i]) == len(resultsDuck[i]))\n",
    "    for j in range(0, len(resultsDuck[i])):\n",
    "        areResultsEqual = areResultsEqual and (resultsProj[i][j] == resultsDuck[i][j][0])\n",
    "        if not areResultsEqual and notPrinted:\n",
    "            notPrinted = False\n",
    "            print(i)\n",
    "            print(j)\n",
    "\n",
    "print(\"Results are equal: \" + str(areResultsEqual))"
   ]
  },
  {
   "attachments": {},
   "cell_type": "markdown",
   "metadata": {},
   "source": [
    "Applying mutations"
   ]
  },
  {
   "cell_type": "code",
   "execution_count": null,
   "metadata": {},
   "outputs": [],
   "source": [
    "nbEpochs = 5\n",
    "comparisonOperators = [\"eq\", \"neq\", \"gte\", \"lte\", \"gt\", \"lt\"]\n",
    "conjucntionOperators = [\"and\", \"or\"]\n",
    "\n",
    "def applyMutations(expr):\n",
    "    inputs = []\n",
    "    label = \"\"\n",
    "    for input in expr.getInputs():\n",
    "        inputs.append(applyMutations(input))\n",
    "\n",
    "    if bool(random.getrandbits(1)) and expr.isCallExpr():\n",
    "        call = expr.toCallExpr()\n",
    "        name = call.getName()\n",
    "        if name in conjucntionOperators:\n",
    "            return call.mutate(random.choice(conjucntionOperators), inputs)\n",
    "        if name in comparisonOperators:\n",
    "            return call.mutate(random.choice(comparisonOperators), inputs)\n",
    "        \n",
    "    return expr.copyWInputs(inputs)"
   ]
  },
  {
   "cell_type": "code",
   "execution_count": null,
   "metadata": {},
   "outputs": [],
   "source": [
    "\n",
    "for i in range(0, 5):\n",
    "    mutants = []\n",
    "\n",
    "    for epoch in range(0, nbEpochs):\n",
    "        queries = []\n",
    "        for q in range(0, len(exprs)):\n",
    "            st = time.time()\n",
    "            mutant = applyMutations(exprs[q])\n",
    "            proj.runQueryOneThread(mutant, 0)\n",
    "            et = time.time()\n",
    "            mutants.append(mutant.getSQL())\n",
    "            projectTimes[i] += (et - st) * millisecondMultiplier\n",
    "\n",
    "\n",
    "    st = time.time()\n",
    "    for mutant in mutants:\n",
    "        con.execute(\"SELECT id FROM data WHERE \" + mutant).fetchall()\n",
    "    et = time.time()\n",
    "    duckTimes[i] += (et - st) * millisecondMultiplier\n",
    "\n",
    "print('Project Execution time mean:', statistics.mean(projectTimes), 'milliseconds')\n",
    "print('Project Execution time std:', statistics.stdev(projectTimes), 'milliseconds')\n",
    "print('DuckDB Execution time mean:', statistics.mean(duckTimes), 'milliseconds')\n",
    "print('DuckDB Execution time std:', statistics.stdev(duckTimes), 'milliseconds')\n",
    "print('Improvement: ', (1 - statistics.mean(projectTimes) / statistics.mean(duckTimes)) * 100, '%')"
   ]
  }
 ],
 "metadata": {
  "kernelspec": {
   "display_name": "Python 3",
   "language": "python",
   "name": "python3"
  },
  "language_info": {
   "codemirror_mode": {
    "name": "ipython",
    "version": 3
   },
   "file_extension": ".py",
   "mimetype": "text/x-python",
   "name": "python",
   "nbconvert_exporter": "python",
   "pygments_lexer": "ipython3",
   "version": "3.10.10"
  },
  "orig_nbformat": 4
 },
 "nbformat": 4,
 "nbformat_minor": 2
}
