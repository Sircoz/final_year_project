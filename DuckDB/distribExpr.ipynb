{
 "cells": [
  {
   "cell_type": "code",
   "execution_count": 91,
   "metadata": {},
   "outputs": [],
   "source": [
    "import os\n",
    "import numpy as np\n",
    "import matplotlib.pyplot as plt\n",
    "import pandas as pd\n",
    "import duckdb"
   ]
  },
  {
   "cell_type": "code",
   "execution_count": 92,
   "metadata": {},
   "outputs": [],
   "source": [
    "folderLoc=\"queries/batch1\"\n",
    "resultLoc=\"queries/batch1/queries10000_80.txt\"\n",
    "nbQ=10000"
   ]
  },
  {
   "cell_type": "code",
   "execution_count": 93,
   "metadata": {},
   "outputs": [],
   "source": [
    "data = pd.read_csv('../adult/discrete.csv')\n",
    "columns = [col for col in data]\n",
    "columns.pop(0)\n",
    "size = len(data[columns[0]])"
   ]
  },
  {
   "cell_type": "code",
   "execution_count": 94,
   "metadata": {},
   "outputs": [],
   "source": [
    "folderLoc=\"queries/batch1\""
   ]
  },
  {
   "cell_type": "code",
   "execution_count": 95,
   "metadata": {},
   "outputs": [
    {
     "name": "stdout",
     "output_type": "stream",
     "text": [
      "['00-10.txt', '10-20.txt', '20-30.txt', '30-40.txt', '40-50.txt', '50-60.txt', '60-70.txt', '70-80.txt', '80-90.txt', '90-100.txt']\n"
     ]
    }
   ],
   "source": [
    "fileLocs=os.listdir(folderLoc + '/temp')\n",
    "fileLocs.sort()\n",
    "print(fileLocs)"
   ]
  },
  {
   "cell_type": "code",
   "execution_count": 96,
   "metadata": {},
   "outputs": [
    {
     "data": {
      "image/png": "[encoded data removed]",
      "text/plain": [
       "<Figure size 640x480 with 1 Axes>"
      ]
     },
     "metadata": {},
     "output_type": "display_data"
    },
    {
     "name": "stdout",
     "output_type": "stream",
     "text": [
      "15.751837425769864\n",
      "-11.722959545461578\n"
     ]
    }
   ],
   "source": [
    "sizes=[0 for i in range(10)]\n",
    "dist = np.random.normal(8, 3, 100000)\n",
    "\n",
    "plt.hist(dist, 10,\n",
    "         density=True,\n",
    "         histtype='bar',\n",
    "         facecolor='b',\n",
    "         alpha=0.5)\n",
    "\n",
    "plt.show()\n",
    "\n",
    "max = np.max(dist)\n",
    "min = np.min(dist)\n",
    "print(max)\n",
    "print(min)\n",
    "\n",
    "max = 10\n",
    "min = 0\n"
   ]
  },
  {
   "cell_type": "code",
   "execution_count": 97,
   "metadata": {},
   "outputs": [
    {
     "name": "stdout",
     "output_type": "stream",
     "text": [
      "[11763, 13042, 12932, 11396, 9308, 6891, 4384, 2598, 1276, 574]\n"
     ]
    }
   ],
   "source": [
    "for i in dist:\n",
    "    if len(sizes) >= nbQ:\n",
    "        break\n",
    "    nb = i * 10 / (max - min)\n",
    "    if nb < 0:\n",
    "        continue\n",
    "    elif nb >= 10:\n",
    "        continue\n",
    "    else:\n",
    "        index = int(nb)\n",
    "    sizes[index] += 1\n",
    "\n",
    "print(sizes)"
   ]
  },
  {
   "cell_type": "code",
   "execution_count": 98,
   "metadata": {},
   "outputs": [
    {
     "name": "stdout",
     "output_type": "stream",
     "text": [
      "73749\n"
     ]
    }
   ],
   "source": [
    "exprs = []\n",
    "for indexFile in range(10):\n",
    "    with open(folderLoc + '/temp/' + fileLocs[indexFile]) as file_in:\n",
    "        i=0\n",
    "        for line in file_in:\n",
    "            exprs.append(line)\n",
    "            i += 1\n",
    "            if i == sizes[indexFile]:\n",
    "                break\n",
    "\n",
    "print(len(exprs))"
   ]
  },
  {
   "cell_type": "code",
   "execution_count": 99,
   "metadata": {},
   "outputs": [],
   "source": [
    "with open(resultLoc, 'a') as f:\n",
    "    for expr in exprs:\n",
    "        f.write(expr)"
   ]
  }
 ],
 "metadata": {
  "kernelspec": {
   "display_name": "Python 3",
   "language": "python",
   "name": "python3"
  },
  "language_info": {
   "codemirror_mode": {
    "name": "ipython",
    "version": 3
   },
   "file_extension": ".py",
   "mimetype": "text/x-python",
   "name": "python",
   "nbconvert_exporter": "python",
   "pygments_lexer": "ipython3",
   "version": "3.8.10"
  },
  "orig_nbformat": 4
 },
 "nbformat": 4,
 "nbformat_minor": 2
}
