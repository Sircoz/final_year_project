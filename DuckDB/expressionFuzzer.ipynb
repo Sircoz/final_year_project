{
 "cells": [
  {
   "cell_type": "code",
   "execution_count": 69,
   "metadata": {},
   "outputs": [],
   "source": [
    "import duckdb\n",
    "import statistics\n",
    "import pandas as pd\n",
    "import random\n",
    "import matplotlib.pyplot as plt\n",
    "import numpy as np\n",
    "\n",
    "%matplotlib inline"
   ]
  },
  {
   "cell_type": "code",
   "execution_count": 70,
   "metadata": {},
   "outputs": [
    {
     "name": "stdout",
     "output_type": "stream",
     "text": [
      "48842\n",
      "['age', 'workclass', 'education', 'educationnum', 'maritalstatus', 'occupation', 'relationship', 'race', 'sex', 'capitalgain', 'capitalloss', 'hoursperweek', 'nativecountry']\n",
      "{'age': 0, 'workclass': 0, 'education': 0, 'educationnum': 0, 'maritalstatus': 0, 'occupation': 0, 'relationship': 0, 'race': 0, 'sex': 0, 'capitalgain': 0, 'capitalloss': 0, 'hoursperweek': 0, 'nativecountry': 0}\n",
      "{'age': 73, 'workclass': 8, 'education': 15, 'educationnum': 15, 'maritalstatus': 6, 'occupation': 14, 'relationship': 5, 'race': 4, 'sex': 1, 'capitalgain': 122, 'capitalloss': 98, 'hoursperweek': 95, 'nativecountry': 41}\n"
     ]
    }
   ],
   "source": [
    "#read data\n",
    "data = pd.read_csv('../adult/discrete.csv')\n",
    "columns = [col for col in data]\n",
    "columns.pop(0)\n",
    "size = len(data[columns[0]])\n",
    "print(size)\n",
    "min={}\n",
    "max={}\n",
    "for col in columns:\n",
    "    min[col] = data[col].min()\n",
    "    max[col] = data[col].max()\n",
    "\n",
    "print(columns)\n",
    "print(min)\n",
    "print(max)\n"
   ]
  },
  {
   "cell_type": "code",
   "execution_count": 71,
   "metadata": {},
   "outputs": [],
   "source": [
    "conjuncts = [\"or\", \"and\"]\n",
    "comparators = [\"=\", \"!=\", \">\", \"<\", \">=\", \"<=\"]"
   ]
  },
  {
   "cell_type": "code",
   "execution_count": 72,
   "metadata": {},
   "outputs": [],
   "source": [
    "def addExpr(query, i):\n",
    "    if query != \"\":\n",
    "        conj = random.choice(conjuncts)\n",
    "        query = query + conj + \" \"\n",
    "\n",
    "    r = random.randint(1, 100)\n",
    "    if r < 5:\n",
    "        query = query + \"(\" + addFilter(\"\") + \") \"\n",
    "        return addExpr(query, i+1)\n",
    "\n",
    "    label = random.choice(columns)\n",
    "    comp = random.choice(comparators)\n",
    "    val = random.uniform(min[label], max[label])\n",
    "\n",
    "    query = query + label + \" \" + comp + \" \" + str(int(val)) + \" \"\n",
    "\n",
    "    r = random.randint(1, 100)\n",
    "    if r < 10*i:\n",
    "        return query\n",
    "    return addExpr(query, i+1)\n",
    "\n",
    "\n",
    "def addFilter(query):\n",
    "    r = random.randint(1, 100)\n",
    "    if r < 10:\n",
    "        if query == \"\":\n",
    "            return \"TRUE\"\n",
    "        else:\n",
    "            return query\n",
    "    else:\n",
    "        return addExpr(query, 1)"
   ]
  },
  {
   "cell_type": "code",
   "execution_count": 73,
   "metadata": {},
   "outputs": [],
   "source": [
    "def generateQuery():\n",
    "    queryBeginning = \"SELECT id FROM data WHERE \"\n",
    "    filter = addFilter(\"\")\n",
    "    return queryBeginning + filter"
   ]
  },
  {
   "cell_type": "code",
   "execution_count": 74,
   "metadata": {},
   "outputs": [],
   "source": [
    "con = duckdb.connect(database=':memory:')\n",
    "con.execute('CREATE TABLE data AS SELECT * FROM read_csv_auto(\\'adult/discrete.csv\\')')\n",
    "con.execute('SET threads TO 1')\n",
    "\n",
    "queries = []\n",
    "sizes = []\n",
    "\n",
    "for i in range(0, 10):\n",
    "    queries.append([])\n",
    "    sizes.append([])\n",
    "\n",
    "for i in range(1, 1000000):\n",
    "    q = generateQuery()\n",
    "    result = con.execute(q).fetchall()\n",
    "    l = len(result)\n",
    "    retSize = l * 10 / size\n",
    "\n",
    "    index = int(retSize)\n",
    "    if index == 10:\n",
    "        index = 9\n",
    "\n",
    "    if len(queries[index]) < 10000:\n",
    "        queries[index].append(q)\n",
    "        sizes[index].append(retSize * 10)\n"
   ]
  },
  {
   "cell_type": "code",
   "execution_count": null,
   "metadata": {},
   "outputs": [],
   "source": []
  },
  {
   "cell_type": "code",
   "execution_count": 75,
   "metadata": {},
   "outputs": [],
   "source": [
    "#print to files\n",
    "for i in range(0, 10):\n",
    "    f = open(\"queries/batch1/temp/\" + str(i) + \"0-\" + str(i+1) + \"0.txt\", \"a\")\n",
    "    for q in queries[i]:\n",
    "        f.write(q)\n",
    "        f.write(\"\\n\")\n",
    "    f.close()"
   ]
  },
  {
   "cell_type": "code",
   "execution_count": 76,
   "metadata": {},
   "outputs": [
    {
     "data": {
      "image/png": "[encoded data removed]",
      "text/plain": [
       "<Figure size 640x480 with 1 Axes>"
      ]
     },
     "metadata": {},
     "output_type": "display_data"
    }
   ],
   "source": [
    "flat_list = [item for sublist in sizes for item in sublist]\n",
    "\n",
    "plotData = np.array(flat_list)\n",
    "\n",
    "plt.hist(plotData, 10,\n",
    "         density=True,\n",
    "         histtype='bar',\n",
    "         facecolor='b',\n",
    "         alpha=0.5)\n",
    "\n",
    "plt.show()"
   ]
  }
 ],
 "metadata": {
  "kernelspec": {
   "display_name": "Python 3",
   "language": "python",
   "name": "python3"
  },
  "language_info": {
   "codemirror_mode": {
    "name": "ipython",
    "version": 3
   },
   "file_extension": ".py",
   "mimetype": "text/x-python",
   "name": "python",
   "nbconvert_exporter": "python",
   "pygments_lexer": "ipython3",
   "version": "3.8.10"
  },
  "orig_nbformat": 4
 },
 "nbformat": 4,
 "nbformat_minor": 2
}
